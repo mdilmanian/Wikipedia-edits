{
 "cells": [
  {
   "cell_type": "markdown",
   "metadata": {
    "slideshow": {
     "slide_type": "slide"
    }
   },
   "source": [
    "### MY470 Computer Programming\n",
    "\n",
    "### Final Assignment, MT 2018"
   ]
  },
  {
   "cell_type": "markdown",
   "metadata": {
    "slideshow": {
     "slide_type": "slide"
    }
   },
   "source": [
    "---\n",
    "### What is the characteristic time-scale of interactions between editors on Wikipedia?\n",
    "\n",
    "The final assignment asks you to use the computational thinking and programming skills you learned in the course to answer an empirical social science question. You are expected to apply the best practices and theoretical concepts we covered in the course to produce a program that not only produces the correct output but is also legible, modular, and reasonably optimized. The assignment assumes mastery of loops, conditionals, and functions, as well as basic awareness of issues related to runtime performance.\n",
    "\n",
    "In the assignment, we will study reverts on Wikipedia. A revert occurs when an editor undoes the changes made by another editor. We will first identify who reverted whom and when, then differentiate between bots, vandals, and human editors, and finally compare the typical time between reverts for bot-bot and human-human reverts.\n",
    "\n",
    "\n",
    "#### Hints\n",
    "\n",
    "Some of the hints below point to one possible way of solving the problems but this is not necessarily the best one. The hints are not intended to stifle your creativity and ingenuity. Alternative approaches will be appreciated, as long as they are not more convoluted or slower.\n",
    "\n",
    "Although this assignment is quite streamlined, imagine that the tasks here are part of a larger project. How would you structure your program if in the future you may need to use a different dataset, manipulate the data differently, add additional analyses, or modify the focus of the current analysis? For example, consider placing helping functions in a separate file called `utils.py` or `tools.py`. These would be functions that you may need in different contexts and for different tasks. "
   ]
  },
  {
   "cell_type": "markdown",
   "metadata": {
    "slideshow": {
     "slide_type": "slide"
    }
   },
   "source": [
    "### Data\n",
    "\n",
    "We will use data from the file `rowiki_2006.txt`. \n",
    "To data were originally obtained from the Wikipedia XML Dumps (https://dumps.wikimedia.org/mirrors.html) and include every article edit made on Romanian Wikipedia since it began until the end of 2006. Each line in the file is an edit and includes the title of the edited article, the time when the edit was submitted, whether the edit was a revert, the version of the article, and the user who submitted the edit. To detect the article versions, a hash was calculated for the complete article text following each revision and the hashes were compared between edits. \n",
    "\n",
    "The table below describes the variables in the data:\n",
    "\n",
    "| Variable   | Explanation   \n",
    "|:-----------|:-------\n",
    "| title      | title of the edited article               \n",
    "| time       | time in the format YYYY-MM-DD HH:MM:SS when the edit was completed  \n",
    "| revert     | 1 if the edit was detected to revert to a previous article version, 0 otherwise \n",
    "| version    | an integer indicating a unique state of the article, generally increasing over time; -1 indicates the article was empty (usually due to vandalism); if the same number appears more than once, then the article was exactly in the same state at these different time points  \n",
    "| user       | the editor's username or if not logged in, the editor's IP address  \n"
   ]
  },
  {
   "cell_type": "markdown",
   "metadata": {},
   "source": [
    "### 1. Who reverted whom?\n",
    "\n",
    "Your goal is to create a network, where an edge goes from the editor who restored an earlier version of the article (the \"reverter\") to the editor who made the revision immediately after that version (the \"reverted\"). For every edge, you should know who was the reverter, who got reverted, and when the revert occured.\n",
    "\n",
    "In addition, you will need to clean up the self-reverts – we will not use them in the analyses here.\n",
    "\n",
    "Save the network data in a `pickle` file, which you will need for the next task.\n",
    "\n",
    "Print the number of nodes and number of edges (reverts) in the network.\n",
    "\n",
    "#### Hints\n",
    "\n",
    "Refer to the lab slides from Week 11 to find out about peculiarities in the data and useful modules that you should take into consideration.\n",
    "\n",
    "There are multiple ways to save the network data. For example, you could use the `networkx` module or create your own network class but you are not expected to. For our purposes here, it will be sufficient to use a single list, or multiple lists, or a list and dictionary, or just dictionaries. You should consider how you are going to use the data to decide on a reasonable data structure.\n",
    "\n",
    "Keep different data manipulations in separate functions. \n",
    "\n",
    "Keep this code in a separate `.py` file and then import the functions in the code cell below to create and pickle the data. You will need to run the code only once as later you will use the pickled data directly and not need to do the data processing again and again. In addition, make sure your `.py` file has a proper `main()` function to allow to run it from the Terminal directly, not just from this notebook. \n"
   ]
  },
  {
   "cell_type": "code",
   "execution_count": 1,
   "metadata": {},
   "outputs": [
    {
     "name": "stdout",
     "output_type": "stream",
     "text": [
      "Number of nodes: 4805\n",
      "Number of edges: 7364\n"
     ]
    }
   ],
   "source": [
    "import pickle \n",
    "from wiki_setup import *\n",
    "\n",
    "# Get Wikipedia data \n",
    "data = get_data('rowiki_2006.txt')\n",
    "\n",
    "# Parse Wiki data and construct network list\n",
    "network = parse_append(data)\n",
    "\n",
    "# Construct set of nodes\n",
    "nodes = get_nodes(network)\n",
    "\n",
    "# Save objects as Pickle files\n",
    "with open ('data_pickle', 'wb') as fw:\n",
    "    pickle.dump(data, fw)\n",
    "\n",
    "with open ('network_pickle', 'wb') as fw:\n",
    "    pickle.dump(network, fw)\n",
    "    \n",
    "with open ('nodes_pickle', 'wb') as fw:\n",
    "    pickle.dump(nodes, fw)\n",
    "    \n",
    "# Print answers\n",
    "print('Number of nodes:', len(nodes))\n",
    "print('Number of edges:', len(network))"
   ]
  },
  {
   "cell_type": "markdown",
   "metadata": {},
   "source": [
    "### 2. Vandals, human editors, and bots\n",
    "\n",
    "Your goal is to classify each node in the revert network as either vandal (an editor who edits Wikipedia with the purpose of causing damage rather than contributing), human editor, or bot. \n",
    "\n",
    "* To identify bots, use the file `botlist_final.txt`, which contains the names of all bots we identified on a number of different language versions of Wikipedia, including Romanian Wikipedia.\n",
    "* We will assume that a vandal is an editor with all of their edits reverted. This is simply a heuristic. (In fact, it is a conservative assumption since we will most likely also label as vandals well-meaning newbies who give up on editing Wikipedia because their first edits get reverted.)\n",
    "* Any editor who is not a bot or a vandal, we will label a human editor.\n",
    "\n",
    "Save this information in the previous or a new `pickle` file, as you will need it for the next task.\n",
    "\n",
    "Print the number of vandals, number of human editos, and number of bots.\n",
    "\n",
    "#### Hints\n",
    "\n",
    "Keep this code in a separate `.py` file and then import the functions in the code cell below to create and pickle the data. You will need to run the code only once as later you will use the pickled data directly and not need to do the data processing again and again. In addition, make sure your `.py` file has a proper `main()` function to allow to run it from the Terminal directly, not just from this notebook. "
   ]
  },
  {
   "cell_type": "code",
   "execution_count": 2,
   "metadata": {},
   "outputs": [
    {
     "name": "stdout",
     "output_type": "stream",
     "text": [
      "Vandals: 2689\n",
      "Human editors: 2096\n",
      "Bots: 20\n"
     ]
    }
   ],
   "source": [
    "import pickle \n",
    "from wiki_classify import *\n",
    "from utils import unpickle\n",
    "\n",
    "# Unpickle objects\n",
    "data = unpickle('data_pickle')\n",
    "network = unpickle('network_pickle')\n",
    "nodes = unpickle('nodes_pickle')\n",
    "\n",
    "# Get bots data and transform to set\n",
    "bots = set(get_bots_data('botlist_final.txt'))\n",
    "\n",
    "# Construct dictionary of reverted users\n",
    "reverteds_dict = get_reverteds_dict(network)\n",
    "\n",
    "# Construct dictionary of editors \n",
    "edits_dict = get_edits_dict(network, data)\n",
    "\n",
    "# Construct set of vandals\n",
    "vandals = get_vandals(reverteds_dict, edits_dict)\n",
    "\n",
    "# Construct classification dictionary\n",
    "class_dict = classify_users(nodes, bots, vandals)    \n",
    "\n",
    "# Save as Pickle files\n",
    "with open ('class_dict_pickle', 'wb') as fw:\n",
    "    pickle.dump(class_dict, fw)\n",
    "\n",
    "with open ('vandals_pickle', 'wb') as fw:\n",
    "    pickle.dump(vandals, fw)\n",
    "\n",
    "with open ('bots_pickle', 'wb') as fw:\n",
    "    pickle.dump(bots, fw)\n",
    "        \n",
    "# Print answers\n",
    "print('Vandals:', sum(v.count('vandal') for v in class_dict.values()))\n",
    "print('Human editors:', sum(v.count('human') for v in class_dict.values()))\n",
    "print('Bots:', sum(v.count('bot') for v in class_dict.values()))"
   ]
  },
  {
   "cell_type": "markdown",
   "metadata": {},
   "source": [
    "### 3. Time between reverts for human-human and bot-bot interactions\n",
    "\n",
    "You are asked to plot the distribution of times between successive reverts for bot-bot interactions and for human-human interactions. In essence, you need to plot two overlapping histograms that show the proportion of succesive reverts between two editors $i$ and $j$ (regardless of whether $(i \\rightarrow j, j \\rightarrow i)$  or $(i \\rightarrow j, i \\rightarrow j)$) that occured within a certain time interval. One of the histograms will be for cases when both $i$ and $j$ are bots, and the other – for cases when both $i$ and $j$ are human editors. You should measure the time intervals in $log_{10}$ seconds.\n",
    "  \n",
    "#### Hints\n",
    "\n",
    "As before, consider whether to keep this code in one or more separate `.py` files. Then simply import the functions in the code cell below to do the analysis and print and plot the results. \n"
   ]
  },
  {
   "cell_type": "code",
   "execution_count": 3,
   "metadata": {
    "scrolled": true
   },
   "outputs": [
    {
     "data": {
      "image/png": "[encoded data removed]",
      "text/plain": [
       "<Figure size 432x288 with 1 Axes>"
      ]
     },
     "metadata": {},
     "output_type": "display_data"
    }
   ],
   "source": [
    "import pickle\n",
    "from wiki_interactions import *\n",
    "from utils import *\n",
    "from matplotlib import pyplot # For histogram\n",
    "\n",
    "# To avoid plot displaying incorrectly:\n",
    "%matplotlib inline \n",
    "\n",
    "# Unpickle network data\n",
    "class_dict = unpickle('class_dict_pickle')\n",
    "network = unpickle('network_pickle')\n",
    "vandals = unpickle('vandals_pickle')\n",
    "bots = unpickle('bots_pickle')\n",
    "\n",
    "# Construct dicts of bot-bot and human-human interactions;\n",
    "# Keys are bot-bot / human-human pairs, values are interaction times.\n",
    "botbot_dict, humhum_dict = pairs_dict(network, class_dict)\n",
    "                \n",
    "# Sort interaction times chronologically, \n",
    "# and converts them to time-differences\n",
    "time_difs(botbot_dict)\n",
    "time_difs(humhum_dict)\n",
    "\n",
    "# Extract interactions data and convert to log10 seconds.\n",
    "botsdata = get_hist_data(botbot_dict)\n",
    "humsdata = get_hist_data(humhum_dict)\n",
    "\n",
    "# Construct histograms\n",
    "pyplot.hist(x = botsdata, bins = 'doane', alpha = 0.5,\n",
    "            rwidth = 0.9,\n",
    "            density = True, label = 'Bot-bot')\n",
    "\n",
    "pyplot.hist(x = humsdata, bins = 'doane', alpha = 0.6, \n",
    "            rwidth = 0.9,\n",
    "            density = True, label = 'Human-human')\n",
    "\n",
    "# Set plot parameters\n",
    "set_plot_params(title = 'Times between successive Wikipedia reverts', \n",
    "                leg_loc = 'right', xlow = -0.5, xhigh = 11, \n",
    "                xlab = 'Time (log_base10 seconds)', \n",
    "                ylab = 'Density')\n",
    "\n",
    "pyplot.show() # Display plot"
   ]
  }
 ],
 "metadata": {
  "kernelspec": {
   "display_name": "Python 3",
   "language": "python",
   "name": "python3"
  },
  "language_info": {
   "codemirror_mode": {
    "name": "ipython",
    "version": 3
   },
   "file_extension": ".py",
   "mimetype": "text/x-python",
   "name": "python",
   "nbconvert_exporter": "python",
   "pygments_lexer": "ipython3",
   "version": "3.6.5"
  }
 },
 "nbformat": 4,
 "nbformat_minor": 2
}
